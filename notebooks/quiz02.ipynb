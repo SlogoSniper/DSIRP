{
 "cells": [
  {
   "cell_type": "markdown",
   "metadata": {},
   "source": [
    "# Quiz 2\n",
    "\n",
    "BEFORE YOU START THIS QUIZ:\n",
    "\n",
    "1. Click on \"Copy to Drive\" to make a copy of the quiz,\n",
    "\n",
    "2. Click on \"Share\",\n",
    "    \n",
    "3. Click on \"Change\" and select \"Anyone with this link can edit\"\n",
    "    \n",
    "4. Click \"Copy link\" and\n",
    "\n",
    "5. Paste the link into [this Canvas assignment](https://canvas.olin.edu/courses/313/assignments/4929). \n",
    "\n",
    "This quiz is open notes, open internet. The only thing you can't do is ask for help.\n",
    "\n",
    "Copyright 2021 Allen Downey, [MIT License](http://opensource.org/licenses/MIT)"
   ]
  },
  {
   "cell_type": "markdown",
   "metadata": {},
   "source": [
    "## Question 1\n",
    "\n",
    "Suppose you have a function that takes a lot of options; some are required and some are optional.\n",
    "\n",
    "Before you run the function, you might want to check that:\n",
    "\n",
    "1. All required options are provided, and\n",
    "\n",
    "2. No illegal options are provided.\n",
    "\n",
    "For example, suppose this dictionary contains the provided options and their values:"
   ]
  },
  {
   "cell_type": "code",
   "execution_count": 3,
   "metadata": {},
   "outputs": [
    {
     "data": {
      "text/plain": [
       "{'a': 1, 'b': 2}"
      ]
     },
     "execution_count": 3,
     "metadata": {},
     "output_type": "execute_result"
    }
   ],
   "source": [
    "options = dict(a=1, b=2)\n",
    "options"
   ]
  },
  {
   "cell_type": "markdown",
   "metadata": {},
   "source": [
    "And suppose that only `a` is required."
   ]
  },
  {
   "cell_type": "code",
   "execution_count": 22,
   "metadata": {},
   "outputs": [
    {
     "name": "stdout",
     "output_type": "stream",
     "text": [
      "True\n"
     ]
    }
   ],
   "source": [
    "required = ['a']"
   ]
  },
  {
   "cell_type": "markdown",
   "metadata": {},
   "source": [
    "And the optional arguments are `b`, and `c`:"
   ]
  },
  {
   "cell_type": "code",
   "execution_count": 31,
   "metadata": {},
   "outputs": [],
   "source": [
    "optional = ['b', 'c'] "
   ]
  },
  {
   "cell_type": "markdown",
   "metadata": {},
   "source": [
    "An option is legal if it is required or optional. All other options are illegal.\n",
    "\n",
    "Write a function called `check_options` that takes a dictionary of options and their values, a sequence of required options, and a sequence of options that are legal but not required.\n",
    "\n",
    "1. It should check that all required options are provided and, if not, print an error message that lists the ones that are missing.\n",
    "\n",
    "2. It should check that all provided options are legal and, if not, print an error message that lists the ones that are illegal.\n",
    "\n",
    "For full credit, you must use set operations when they are appropriate rather than writing `for` loops."
   ]
  },
  {
   "cell_type": "code",
   "execution_count": 148,
   "metadata": {},
   "outputs": [],
   "source": [
    "def check_options(diction, req, opt):\n",
    "    reqs = set(req)\n",
    "    opts = set(opt)\n",
    "    # To protect against an input that is not a dictionary \n",
    "    try:\n",
    "        # Take all dictionary keys into a set\n",
    "        dict_keys = set(diction.keys())\n",
    "    except:\n",
    "        print(\"The input is not a dictionary\")\n",
    "    # If reqs is not a subset of the keys\n",
    "    if not reqs <= dict_keys:\n",
    "        print(\"The dictionary is missing a required option\")\n",
    "    # If the result of removing required and optional is not a blank set or a set that is a subset of optionals\n",
    "    elif dict_keys - (reqs | opts) != set() or not dict_keys - (reqs | opts) <= opts:\n",
    "        print(\"The dictionary has too many options\")    \n"
   ]
  },
  {
   "cell_type": "markdown",
   "metadata": {},
   "source": [
    "The following test should display nothing because the dictionary contains all required options and no illegal ones."
   ]
  },
  {
   "cell_type": "code",
   "execution_count": 149,
   "metadata": {},
   "outputs": [],
   "source": [
    "options = dict(a=1, b=2)\n",
    "check_options(options, required, optional)"
   ]
  },
  {
   "cell_type": "markdown",
   "metadata": {},
   "source": [
    "The following test should print an error message because the dictionary is missing a required option."
   ]
  },
  {
   "cell_type": "code",
   "execution_count": 151,
   "metadata": {},
   "outputs": [
    {
     "name": "stdout",
     "output_type": "stream",
     "text": [
      "The dictionary is missing a required option\n"
     ]
    }
   ],
   "source": [
    "options = dict(b=2, c=3)\n",
    "check_options(options, required, optional)"
   ]
  },
  {
   "cell_type": "markdown",
   "metadata": {},
   "source": [
    "The following test should display an error message because the dictionary contains an illegal option."
   ]
  },
  {
   "cell_type": "code",
   "execution_count": 154,
   "metadata": {},
   "outputs": [
    {
     "name": "stdout",
     "output_type": "stream",
     "text": [
      "The dictionary has too many options\n"
     ]
    }
   ],
   "source": [
    "options = dict(a=1, b=2, d=4)\n",
    "check_options(options, required, optional)"
   ]
  },
  {
   "cell_type": "markdown",
   "metadata": {},
   "source": [
    "## Question 2\n",
    "\n",
    "The set method `symmetric_difference` operates on two sets and computes the set of elements that appear in either set but not both."
   ]
  },
  {
   "cell_type": "code",
   "execution_count": 1,
   "metadata": {},
   "outputs": [
    {
     "data": {
      "text/plain": [
       "{1, 3}"
      ]
     },
     "execution_count": 1,
     "metadata": {},
     "output_type": "execute_result"
    }
   ],
   "source": [
    "s1 = {1, 2}\n",
    "s2 = {2, 3}\n",
    "\n",
    "s1.symmetric_difference(s2)"
   ]
  },
  {
   "cell_type": "markdown",
   "metadata": {},
   "source": [
    "The symmetric difference operation is also defined for more that two sets. It computes **the set of elements that appear in an odd number of sets**.\n",
    "\n",
    "The `symmetric_difference` method can only handle two sets (unlike some of the other set methods), but you can chain the method like this:"
   ]
  },
  {
   "cell_type": "code",
   "execution_count": 40,
   "metadata": {},
   "outputs": [
    {
     "ename": "TypeError",
     "evalue": "'set' object is not subscriptable",
     "output_type": "error",
     "traceback": [
      "\u001b[1;31m---------------------------------------------------------------------------\u001b[0m",
      "\u001b[1;31mTypeError\u001b[0m                                 Traceback (most recent call last)",
      "Cell \u001b[1;32mIn[40], line 4\u001b[0m\n\u001b[0;32m      1\u001b[0m s3 \u001b[39m=\u001b[39m {\u001b[39m3\u001b[39m, \u001b[39m4\u001b[39m}\n\u001b[0;32m      2\u001b[0m s1\u001b[39m.\u001b[39msymmetric_difference(s2)\u001b[39m.\u001b[39msymmetric_difference(s3)\n\u001b[1;32m----> 4\u001b[0m s3[\u001b[39m0\u001b[39;49m]\n",
      "\u001b[1;31mTypeError\u001b[0m: 'set' object is not subscriptable"
     ]
    }
   ],
   "source": [
    "s3 = {3, 4}\n",
    "s1.symmetric_difference(s2).symmetric_difference(s3)"
   ]
  },
  {
   "cell_type": "markdown",
   "metadata": {},
   "source": [
    "However, for the sake of the exercise, let's suppose we don't have the set method `symmetric_difference` the equivalent `^` operator.\n",
    "\n",
    "Write a function that takes a list of sets as a parameter, computes their symmetric difference, and returns the result as a `set`."
   ]
  },
  {
   "cell_type": "code",
   "execution_count": 69,
   "metadata": {},
   "outputs": [],
   "source": [
    "def symmetric_difference(sets):\n",
    "    counter = {}\n",
    "    sym_diff = []\n",
    "    # Loop through each set given\n",
    "    for item in sets:\n",
    "        # Loop through each number in each set\n",
    "        for num in item:\n",
    "            # If the current number is not in the dictionary then add it\n",
    "            if not counter.get(num):\n",
    "                counter.update({num: 1})\n",
    "            # If it is in the dictionary then increase it's value by 1\n",
    "            else:\n",
    "                counter[num] += 1\n",
    "    # Loop through each key-value pair \n",
    "    for pair in counter:\n",
    "        # If the value of the key is 1\n",
    "        if counter[pair] == 1:\n",
    "            # Add the number to list\n",
    "            sym_diff.append(pair)\n",
    "    # Return result as a set\n",
    "    return set(sym_diff)"
   ]
  },
  {
   "cell_type": "markdown",
   "metadata": {},
   "source": [
    "Use the following tests to check your function."
   ]
  },
  {
   "cell_type": "code",
   "execution_count": 70,
   "metadata": {},
   "outputs": [
    {
     "data": {
      "text/plain": [
       "{1, 3}"
      ]
     },
     "execution_count": 70,
     "metadata": {},
     "output_type": "execute_result"
    }
   ],
   "source": [
    "symmetric_difference([s1, s2])    # should be {1, 3}"
   ]
  },
  {
   "cell_type": "code",
   "execution_count": 71,
   "metadata": {},
   "outputs": [
    {
     "data": {
      "text/plain": [
       "{2, 4}"
      ]
     },
     "execution_count": 71,
     "metadata": {},
     "output_type": "execute_result"
    }
   ],
   "source": [
    "symmetric_difference([s2, s3])     # should be {2, 4}"
   ]
  },
  {
   "cell_type": "code",
   "execution_count": 72,
   "metadata": {},
   "outputs": [
    {
     "data": {
      "text/plain": [
       "{1, 4}"
      ]
     },
     "execution_count": 72,
     "metadata": {},
     "output_type": "execute_result"
    }
   ],
   "source": [
    "symmetric_difference([s1, s2, s3]) # should be {1, 4}"
   ]
  },
  {
   "cell_type": "code",
   "execution_count": null,
   "metadata": {},
   "outputs": [],
   "source": []
  },
  {
   "cell_type": "code",
   "execution_count": null,
   "metadata": {},
   "outputs": [],
   "source": []
  },
  {
   "cell_type": "code",
   "execution_count": null,
   "metadata": {},
   "outputs": [],
   "source": []
  },
  {
   "cell_type": "code",
   "execution_count": null,
   "metadata": {},
   "outputs": [],
   "source": []
  },
  {
   "cell_type": "code",
   "execution_count": null,
   "metadata": {},
   "outputs": [],
   "source": []
  },
  {
   "cell_type": "markdown",
   "metadata": {},
   "source": [
    "## Question 3\n",
    "\n",
    "Write a generator function called `evens_and_odds` that takes a list of integers and yields:\n",
    "\n",
    "* All of the elements of the list that are even, followed by\n",
    "\n",
    "* All of the elements of the list that are odd.\n",
    "\n",
    "For example, if the list is `[1, 2, 4, 7]`, the sequence of values generated should be `2, 4, 1, 7`."
   ]
  },
  {
   "cell_type": "code",
   "execution_count": 1,
   "metadata": {},
   "outputs": [],
   "source": [
    "def evens_and_odds(ints):\n",
    "    # Loop through each number in the list given and then sort it by their mod 2 and yield it\n",
    "    for num in sorted(ints, key=lambda x: x%2):\n",
    "        yield num"
   ]
  },
  {
   "cell_type": "markdown",
   "metadata": {},
   "source": [
    "Use this example to test your function."
   ]
  },
  {
   "cell_type": "code",
   "execution_count": 4,
   "metadata": {},
   "outputs": [
    {
     "name": "stdout",
     "output_type": "stream",
     "text": [
      "2\n",
      "4\n",
      "1\n",
      "7\n"
     ]
    }
   ],
   "source": [
    "t = [1, 2, 4, 7,]\n",
    "\n",
    "for x in evens_and_odds(t):\n",
    "    print(x)"
   ]
  },
  {
   "cell_type": "markdown",
   "metadata": {},
   "source": [
    "As a challenge, JUST FOR FUN, write a version of this function that works if the argument is an iterator that you can only iterate once."
   ]
  },
  {
   "cell_type": "code",
   "execution_count": null,
   "metadata": {},
   "outputs": [],
   "source": []
  },
  {
   "cell_type": "code",
   "execution_count": null,
   "metadata": {},
   "outputs": [],
   "source": []
  },
  {
   "cell_type": "markdown",
   "metadata": {},
   "source": [
    "## Question 4\n",
    "\n",
    "The following string contains the lyrics of a [well-known song](https://youtu.be/dQw4w9WgXcQ?t=43)."
   ]
  },
  {
   "cell_type": "code",
   "execution_count": 84,
   "metadata": {},
   "outputs": [],
   "source": [
    "lyrics = \"\"\"\n",
    "Never gonna give you up\n",
    "Never gonna let you down\n",
    "Never gonna run around and desert you\n",
    "Never gonna make you cry\n",
    "Never gonna say goodbye\n",
    "Never gonna tell a lie and hurt you \n",
    "\"\"\""
   ]
  },
  {
   "cell_type": "markdown",
   "metadata": {},
   "source": [
    "The following generator function yields the words in `lyrics` one at a time."
   ]
  },
  {
   "cell_type": "code",
   "execution_count": 85,
   "metadata": {},
   "outputs": [],
   "source": [
    "def generate_lyrics(lyrics):\n",
    "    for word in lyrics.split():\n",
    "        yield word"
   ]
  },
  {
   "cell_type": "markdown",
   "metadata": {},
   "source": [
    "Write a few lines of code that use `generate_lyrics` to iterate through the words **only once** and build a dictionary that maps from each word to the set of words that follow it.\n",
    "\n",
    "For example, the first two entries in the dictionary should be\n",
    "\n",
    "```\n",
    "{'Never': {'gonna'},\n",
    " 'gonna': {'give', 'let', 'make', 'run', 'say', 'tell'},\n",
    " ...\n",
    "```\n",
    "\n",
    "because in `lyrics`, the word \"Never\" is always followed by \"gonna\", and the word \"gonna\" is followed by six different words."
   ]
  },
  {
   "cell_type": "code",
   "execution_count": 145,
   "metadata": {},
   "outputs": [
    {
     "name": "stdout",
     "output_type": "stream",
     "text": [
      "{'Never': {'gonna'}, 'gonna': {'give', 'run', 'tell', 'say', 'make', 'let'}, 'give': {'you'}, 'you': {'down', 'up', 'cry', 'Never'}, 'up': {'Never'}, 'let': {'you'}, 'down': {'Never'}, 'run': {'around'}, 'around': {'and'}, 'and': {'hurt', 'desert'}, 'desert': {'you'}, 'make': {'you'}, 'cry': {'Never'}, 'say': {'goodbye'}, 'goodbye': {'Never'}, 'tell': {'a'}, 'a': {'lie'}, 'lie': {'and'}, 'hurt': {'you'}}\n"
     ]
    }
   ],
   "source": [
    "it_lyrics = generate_lyrics(lyrics)\n",
    "# Get first lyric\n",
    "prev_lyric = next(it_lyrics)\n",
    "word_map = {}\n",
    "\n",
    "# Loop through each lyric in the itterator \n",
    "for lyric in it_lyrics:\n",
    "    # If the previous lyric does not exist, create a key for it and add the current lyric as a value\n",
    "    if not word_map.get(prev_lyric):\n",
    "        word_map.update({prev_lyric: set([lyric])})\n",
    "    # If the previous lyric does exist, just add the current lyric as a value\n",
    "    else:\n",
    "        word_map[prev_lyric].add(lyric)\n",
    "    # Update previous lyric with current lyric\n",
    "    prev_lyric = lyric\n",
    "\n",
    "print(word_map)\n",
    "    \n",
    "    \n",
    "\n",
    "\n"
   ]
  },
  {
   "cell_type": "code",
   "execution_count": 92,
   "metadata": {},
   "outputs": [
    {
     "data": {
      "text/plain": [
       "'Never'"
      ]
     },
     "execution_count": 92,
     "metadata": {},
     "output_type": "execute_result"
    }
   ],
   "source": []
  },
  {
   "cell_type": "code",
   "execution_count": null,
   "metadata": {},
   "outputs": [],
   "source": []
  },
  {
   "cell_type": "code",
   "execution_count": null,
   "metadata": {},
   "outputs": [],
   "source": []
  }
 ],
 "metadata": {
  "kernelspec": {
   "display_name": "Python 3",
   "language": "python",
   "name": "python3"
  },
  "language_info": {
   "codemirror_mode": {
    "name": "ipython",
    "version": 3
   },
   "file_extension": ".py",
   "mimetype": "text/x-python",
   "name": "python",
   "nbconvert_exporter": "python",
   "pygments_lexer": "ipython3",
   "version": "3.10.10"
  },
  "vscode": {
   "interpreter": {
    "hash": "34718bd5e5ff0ec954d04da905bd4ff4d511a0bfb6f9a1aa7037f750dbb407a4"
   }
  }
 },
 "nbformat": 4,
 "nbformat_minor": 1
}
