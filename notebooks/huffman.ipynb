{
 "cells": [
  {
   "cell_type": "markdown",
   "metadata": {},
   "source": [
    "# Huffman Code"
   ]
  },
  {
   "cell_type": "markdown",
   "metadata": {},
   "source": [
    "[Click here to run this chapter on Colab](https://colab.research.google.com/github/AllenDowney/DSIRP/blob/main/notebooks/huffman.ipynb)"
   ]
  },
  {
   "cell_type": "markdown",
   "metadata": {},
   "source": [
    "A [Huffman code](https://en.wikipedia.org/wiki/Huffman_coding) is a \"type of optimal prefix code that is commonly used for lossless data compression\".\n",
    "There are three parts of that definition we have to unpack: \"code\", \"prefix\", and \"optimal\".\n",
    "\n",
    "In this context, a \"code\" is a mapping from symbols to bit strings.\n",
    "For example, [ASCII](https://en.wikipedia.org/wiki/ASCII) is a character encoding that maps from characters (like letters, numbers, and punctuation) to seven-bit integers.\n",
    "Since all ASCII bit strings are the same length, it is a \"fixed-length code\", as contrasted with Huffman codes, which are \"variable-length codes\".\n",
    "\n",
    "In order to decode something encoded in a variable-length code, there has to be some way to figure out where one bit string ends and the next begins.\n",
    "In general, there are three ways to solve this problem:\n",
    "\n",
    "* One option is to begin each bit string with a special sequence that indicates its length. This is [how Unicode works](https://stackoverflow.com/questions/1543613/how-does-utf-8-variable-width-encoding-work).\n",
    "\n",
    "* Another option is to end each bit string with a special sequence that marks the end.\n",
    "\n",
    "* The third option is to use a \"prefix code\", which is how Huffman codes work.\n",
    "\n",
    "A prefix code is a code where no whole bit string in the code is a prefix of any bit string in the code.\n",
    "If a code has this property, we can decode it by reading bits one at a time and checking to see whether we have completed a valid bit string.\n",
    "If so, we know we are at the end of the bit string, because it cannot be the prefix of another bit string.\n",
    "\n",
    "For example, the following is a prefix code with only three symbols:\n",
    "\n",
    "```\n",
    "symbol        bit string\n",
    "x             1\n",
    "y             01\n",
    "z             001\n",
    "```\n",
    "\n",
    "In this code, we can encode the string `xyz` with the bit string `101001`, and we can decode the result without ambiguity.\n",
    "\n",
    "So that's what it means to say that a Huffman code is a prefix code; finally, Huffman codes are \"optimal\" in the sense that they give short codes to the most common symbols and longer codes to the least common symbols.\n",
    "The result is that they minimize the average number of bits needed to encode a sequence of symbols.\n",
    "\n",
    "However, in order to achieve this feat, we have to know the relative frequencies of the symbols.\n",
    "One way to do that is to start with a \"corpus\", which is a text that contains the symbols in the proportions we expect for the text we will encode.\n",
    "\n",
    "As an example, I'll use the text from the [Huffman code Wikipedia page](https://en.wikipedia.org/wiki/Huffman_coding)."
   ]
  },
  {
   "cell_type": "code",
   "execution_count": 29,
   "metadata": {},
   "outputs": [],
   "source": [
    "text = \"\"\"jim quickly realized that the beautiful gowns are expensive (such as a character in a file). Huffman's variable-length code\n",
    "As in other However, The algorithm\"\"\""
   ]
  },
  {
   "cell_type": "markdown",
   "metadata": {},
   "source": [
    "We can use a `Counter` to count the number of times each symbol appears in this text."
   ]
  },
  {
   "cell_type": "code",
   "execution_count": 64,
   "metadata": {},
   "outputs": [
    {
     "data": {
      "text/plain": [
       "Counter({'j': 1,\n",
       "         'i': 10,\n",
       "         'm': 3,\n",
       "         ' ': 23,\n",
       "         'q': 1,\n",
       "         'u': 5,\n",
       "         'c': 5,\n",
       "         'k': 1,\n",
       "         'l': 7,\n",
       "         'y': 1,\n",
       "         'r': 8,\n",
       "         'e': 17,\n",
       "         'a': 13,\n",
       "         'z': 1,\n",
       "         'd': 2,\n",
       "         't': 8,\n",
       "         'h': 8,\n",
       "         'b': 2,\n",
       "         'f': 4,\n",
       "         'g': 3,\n",
       "         'o': 5,\n",
       "         'w': 2,\n",
       "         'n': 6,\n",
       "         's': 6,\n",
       "         'x': 1,\n",
       "         'p': 1,\n",
       "         'v': 3,\n",
       "         '(': 1,\n",
       "         ')': 1,\n",
       "         '.': 1,\n",
       "         'H': 2,\n",
       "         \"'\": 1,\n",
       "         '-': 1,\n",
       "         '\\n': 1,\n",
       "         'A': 1,\n",
       "         ',': 1,\n",
       "         'T': 1})"
      ]
     },
     "execution_count": 64,
     "metadata": {},
     "output_type": "execute_result"
    }
   ],
   "source": [
    "from collections import Counter\n",
    "\n",
    "c = Counter(text)\n",
    "c"
   ]
  },
  {
   "cell_type": "markdown",
   "metadata": {},
   "source": [
    "Now let's see how we can use these counts to build a Huffman code.\n",
    "The first step is to build a Huffman tree, which is a binary tree where every node contains a count and some nodes contain symbols.\n",
    "\n",
    "To make a Huffman tree, we start with a sequence of nodes, one for each symbol.\n",
    "To represent nodes, I'll use a `namedtuple`."
   ]
  },
  {
   "cell_type": "code",
   "execution_count": 65,
   "metadata": {
    "tags": []
   },
   "outputs": [],
   "source": [
    "from collections import namedtuple\n",
    "\n",
    "\n",
    "Node = namedtuple('Node', ['count', 'letter', 'left', 'right'])"
   ]
  },
  {
   "cell_type": "markdown",
   "metadata": {},
   "source": [
    "For example, here's a node that represents the symbol `a` with count `4`.\n",
    "Since this node has no children, it is a leaf node."
   ]
  },
  {
   "cell_type": "code",
   "execution_count": 130,
   "metadata": {
    "tags": []
   },
   "outputs": [
    {
     "data": {
      "text/plain": [
       "Node(count=4, letter='a', left=None, right=None)"
      ]
     },
     "execution_count": 130,
     "metadata": {},
     "output_type": "execute_result"
    }
   ],
   "source": [
    "left = Node(4, 'a', None, None)\n",
    "left"
   ]
  },
  {
   "cell_type": "markdown",
   "metadata": {},
   "source": [
    "And here's another leaf node that represents the symbol `n` and its count."
   ]
  },
  {
   "cell_type": "code",
   "execution_count": 131,
   "metadata": {
    "tags": []
   },
   "outputs": [
    {
     "data": {
      "text/plain": [
       "Node(count=2, letter='n', left=None, right=None)"
      ]
     },
     "execution_count": 131,
     "metadata": {},
     "output_type": "execute_result"
    }
   ],
   "source": [
    "right = Node(2, 'n', None, None)\n",
    "right"
   ]
  },
  {
   "cell_type": "markdown",
   "metadata": {},
   "source": [
    "One reason we're using a namedtuple is that it behaves like a tuple, so if we compare two `Node` objects, we get a tuple-like sorting order."
   ]
  },
  {
   "cell_type": "code",
   "execution_count": 6,
   "metadata": {
    "tags": []
   },
   "outputs": [
    {
     "data": {
      "text/plain": [
       "True"
      ]
     },
     "execution_count": 6,
     "metadata": {},
     "output_type": "execute_result"
    }
   ],
   "source": [
    "left > right"
   ]
  },
  {
   "cell_type": "markdown",
   "metadata": {},
   "source": [
    "If two nodes have the same `count`, they get sorted in alphabetical order by `letter`."
   ]
  },
  {
   "cell_type": "markdown",
   "metadata": {},
   "source": [
    "## Making trees\n",
    "\n",
    "Given these two leaf nodes, we can make a tree like this:"
   ]
  },
  {
   "cell_type": "code",
   "execution_count": 132,
   "metadata": {
    "tags": []
   },
   "outputs": [
    {
     "data": {
      "text/plain": [
       "Node(count=6, letter='\\x00', left=Node(count=4, letter='a', left=None, right=None), right=Node(count=2, letter='n', left=None, right=None))"
      ]
     },
     "execution_count": 132,
     "metadata": {},
     "output_type": "execute_result"
    }
   ],
   "source": [
    "count = left.count + right.count\n",
    "root = Node(count, '\\0', left, right)\n",
    "root"
   ]
  },
  {
   "cell_type": "markdown",
   "metadata": {},
   "source": [
    "Because `root` has children, it is not a leaf node; it is an interior node.\n",
    "In a Huffman tree, the interior nodes do not represent symbols, so I have set `letter` to the null character `\\0`.\n",
    "The count of an interior node is the sum of the count of its children."
   ]
  },
  {
   "cell_type": "markdown",
   "metadata": {},
   "source": [
    "Now, to build a Huffman tree, we'll start with a collection of nodes, one for each symbol, and build the tree \"bottom up\" by following these steps:\n",
    "\n",
    "1) Remove the node with the lowest count.\n",
    "\n",
    "2) Remove the node with the next lowest count.\n",
    "\n",
    "3) Make a new node with the nodes we just removed as children.\n",
    "\n",
    "4) Put the new node back into the collection.\n",
    "\n",
    "5) If there's only one node in the collection, it's the Huffman tree, and we're done.\n",
    "\n",
    "In general, we could use any kind of collection, but if we look at the operations required by this algorithm, the most efficient option is a heap."
   ]
  },
  {
   "cell_type": "markdown",
   "metadata": {},
   "source": [
    "But we'll start by iterating through the `Counter` and making a list of `Node` objects, "
   ]
  },
  {
   "cell_type": "code",
   "execution_count": 66,
   "metadata": {
    "tags": []
   },
   "outputs": [
    {
     "data": {
      "text/plain": [
       "[Node(count=1, letter='j', left=None, right=None),\n",
       " Node(count=10, letter='i', left=None, right=None),\n",
       " Node(count=3, letter='m', left=None, right=None),\n",
       " Node(count=23, letter=' ', left=None, right=None),\n",
       " Node(count=1, letter='q', left=None, right=None),\n",
       " Node(count=5, letter='u', left=None, right=None),\n",
       " Node(count=5, letter='c', left=None, right=None),\n",
       " Node(count=1, letter='k', left=None, right=None),\n",
       " Node(count=7, letter='l', left=None, right=None),\n",
       " Node(count=1, letter='y', left=None, right=None),\n",
       " Node(count=8, letter='r', left=None, right=None),\n",
       " Node(count=17, letter='e', left=None, right=None),\n",
       " Node(count=13, letter='a', left=None, right=None),\n",
       " Node(count=1, letter='z', left=None, right=None),\n",
       " Node(count=2, letter='d', left=None, right=None),\n",
       " Node(count=8, letter='t', left=None, right=None),\n",
       " Node(count=8, letter='h', left=None, right=None),\n",
       " Node(count=2, letter='b', left=None, right=None),\n",
       " Node(count=4, letter='f', left=None, right=None),\n",
       " Node(count=3, letter='g', left=None, right=None),\n",
       " Node(count=5, letter='o', left=None, right=None),\n",
       " Node(count=2, letter='w', left=None, right=None),\n",
       " Node(count=6, letter='n', left=None, right=None),\n",
       " Node(count=6, letter='s', left=None, right=None),\n",
       " Node(count=1, letter='x', left=None, right=None),\n",
       " Node(count=1, letter='p', left=None, right=None),\n",
       " Node(count=3, letter='v', left=None, right=None),\n",
       " Node(count=1, letter='(', left=None, right=None),\n",
       " Node(count=1, letter=')', left=None, right=None),\n",
       " Node(count=1, letter='.', left=None, right=None),\n",
       " Node(count=2, letter='H', left=None, right=None),\n",
       " Node(count=1, letter=\"'\", left=None, right=None),\n",
       " Node(count=1, letter='-', left=None, right=None),\n",
       " Node(count=1, letter='\\n', left=None, right=None),\n",
       " Node(count=1, letter='A', left=None, right=None),\n",
       " Node(count=1, letter=',', left=None, right=None),\n",
       " Node(count=1, letter='T', left=None, right=None)]"
      ]
     },
     "execution_count": 66,
     "metadata": {},
     "output_type": "execute_result"
    }
   ],
   "source": [
    "nodes = [Node(count, letter, None, None) \n",
    "         for (letter, count) in c.items()]\n",
    "nodes"
   ]
  },
  {
   "cell_type": "markdown",
   "metadata": {},
   "source": [
    "Next we'll use the heap module to convert the list to a heap."
   ]
  },
  {
   "cell_type": "code",
   "execution_count": 67,
   "metadata": {
    "tags": []
   },
   "outputs": [
    {
     "data": {
      "image/png": "[encoded data removed]",
      "text/plain": [
       "<Figure size 640x480 with 1 Axes>"
      ]
     },
     "metadata": {},
     "output_type": "display_data"
    }
   ],
   "source": [
    "from heapq import heapify, heappop, heappush\n",
    "\n",
    "data = [(item.count, item.letter) for item in nodes]\n",
    "\n",
    "\n",
    "heap = nodes.copy()\n",
    "heapify(heap)\n",
    "\n",
    "dis_heap = data.copy()\n",
    "heapify(dis_heap)\n",
    "#heap\n",
    "\n",
    "import networkx as nx\n",
    "\n",
    "def make_dag(heap):\n",
    "    \"\"\"Make a NetworkX graph that represents the heap.\"\"\"\n",
    "    G = nx.DiGraph()\n",
    "    \n",
    "    for i in range(1, len(heap)):\n",
    "        parent = (i-1)//2\n",
    "        G.add_edge(parent, i)\n",
    "    \n",
    "    return G\n",
    "\n",
    "G = make_dag(dis_heap)\n",
    "\n",
    "from EoN import hierarchy_pos\n",
    "\n",
    "def draw_heap(heap):\n",
    "    G = make_dag(heap)\n",
    "    pos = hierarchy_pos(G)\n",
    "    labels = dict(enumerate(heap))\n",
    "    nx.draw(G, pos, labels=labels, alpha=0.4)\n",
    "\n",
    "draw_heap(dis_heap)"
   ]
  },
  {
   "cell_type": "markdown",
   "metadata": {},
   "source": [
    "Now we can use the heap to make a tree.\n",
    "\n",
    "**Exercise:** Write a function called `make_tree` that takes a heap of `Node` objects and uses the algorithm I described to make and return a Huffman tree. In other words, it should join up the nodes into a tree and return the root node."
   ]
  },
  {
   "cell_type": "code",
   "execution_count": 68,
   "metadata": {},
   "outputs": [
    {
     "data": {
      "text/plain": [
       "Node(count=158, letter='\\x00', left=Node(count=93, letter='\\x00', left=Node(count=50, letter='\\x00', left=Node(count=27, letter='\\x00', left=Node(count=14, letter='\\x00', left=Node(count=7, letter='l', left=None, right=None), right=Node(count=7, letter='\\x00', left=Node(count=4, letter='\\x00', left=Node(count=2, letter='\\x00', left=Node(count=1, letter=')', left=None, right=None), right=Node(count=1, letter='(', left=None, right=None)), right=Node(count=2, letter='\\x00', left=Node(count=1, letter=\"'\", left=None, right=None), right=Node(count=1, letter='\\n', left=None, right=None))), right=Node(count=3, letter='v', left=None, right=None))), right=Node(count=13, letter='a', left=None, right=None)), right=Node(count=23, letter=' ', left=None, right=None)), right=Node(count=43, letter='\\x00', left=Node(count=23, letter='\\x00', left=Node(count=12, letter='\\x00', left=Node(count=6, letter='s', left=None, right=None), right=Node(count=6, letter='n', left=None, right=None)), right=Node(count=11, letter='\\x00', left=Node(count=6, letter='\\x00', left=Node(count=3, letter='m', left=None, right=None), right=Node(count=3, letter='g', left=None, right=None)), right=Node(count=5, letter='u', left=None, right=None))), right=Node(count=20, letter='\\x00', left=Node(count=10, letter='i', left=None, right=None), right=Node(count=10, letter='\\x00', left=Node(count=5, letter='o', left=None, right=None), right=Node(count=5, letter='c', left=None, right=None))))), right=Node(count=65, letter='\\x00', left=Node(count=33, letter='\\x00', left=Node(count=17, letter='e', left=None, right=None), right=Node(count=16, letter='\\x00', left=Node(count=8, letter='t', left=None, right=None), right=Node(count=8, letter='r', left=None, right=None))), right=Node(count=32, letter='\\x00', left=Node(count=16, letter='\\x00', left=Node(count=8, letter='h', left=None, right=None), right=Node(count=8, letter='\\x00', left=Node(count=4, letter='f', left=None, right=None), right=Node(count=4, letter='\\x00', left=Node(count=2, letter='w', left=None, right=None), right=Node(count=2, letter='d', left=None, right=None)))), right=Node(count=16, letter='\\x00', left=Node(count=8, letter='\\x00', left=Node(count=4, letter='\\x00', left=Node(count=2, letter='b', left=None, right=None), right=Node(count=2, letter='H', left=None, right=None)), right=Node(count=4, letter='\\x00', left=Node(count=2, letter='\\x00', left=Node(count=1, letter='z', left=None, right=None), right=Node(count=1, letter='y', left=None, right=None)), right=Node(count=2, letter='\\x00', left=Node(count=1, letter='x', left=None, right=None), right=Node(count=1, letter='q', left=None, right=None)))), right=Node(count=8, letter='\\x00', left=Node(count=4, letter='\\x00', left=Node(count=2, letter='\\x00', left=Node(count=1, letter='p', left=None, right=None), right=Node(count=1, letter='k', left=None, right=None)), right=Node(count=2, letter='\\x00', left=Node(count=1, letter='j', left=None, right=None), right=Node(count=1, letter='T', left=None, right=None))), right=Node(count=4, letter='\\x00', left=Node(count=2, letter='\\x00', left=Node(count=1, letter='A', left=None, right=None), right=Node(count=1, letter='.', left=None, right=None)), right=Node(count=2, letter='\\x00', left=Node(count=1, letter='-', left=None, right=None), right=Node(count=1, letter=',', left=None, right=None))))))))"
      ]
     },
     "execution_count": 68,
     "metadata": {},
     "output_type": "execute_result"
    }
   ],
   "source": [
    "def make_tree(node_heap):\n",
    "    while len(node_heap) > 1:\n",
    "        right = heappop(node_heap)\n",
    "        left = heappop(node_heap)\n",
    "\n",
    "        count = left.count + right.count\n",
    "\n",
    "        root = Node(count, '\\0', left, right)\n",
    "        heappush(node_heap, root)\n",
    "        \n",
    "    return(node_heap[0])\n",
    "                \n",
    "        \n",
    "\n",
    "\n",
    "make_tree(heap)\n"
   ]
  },
  {
   "cell_type": "markdown",
   "metadata": {},
   "source": [
    "Use this code to test it."
   ]
  },
  {
   "cell_type": "code",
   "execution_count": 69,
   "metadata": {
    "tags": []
   },
   "outputs": [],
   "source": [
    "tree = make_tree(heap)"
   ]
  },
  {
   "cell_type": "markdown",
   "metadata": {},
   "source": [
    "## Drawing the Tree\n",
    "\n",
    "To see what it looks like, we'll use NetworkX and a library called EoN."
   ]
  },
  {
   "cell_type": "code",
   "execution_count": 137,
   "metadata": {},
   "outputs": [],
   "source": [
    "try:\n",
    "    import EoN\n",
    "except ImportError:\n",
    "    !pip install EoN"
   ]
  },
  {
   "cell_type": "markdown",
   "metadata": {},
   "source": [
    "The following function traverses the Huffman tree and makes a NetworkX `DiGraph`."
   ]
  },
  {
   "cell_type": "code",
   "execution_count": 70,
   "metadata": {},
   "outputs": [],
   "source": [
    "import networkx as nx\n",
    "\n",
    "def add_edges(parent, G):\n",
    "    \"\"\"Make a NetworkX graph that represents the tree.\"\"\"\n",
    "    if parent is None:\n",
    "        return\n",
    "    \n",
    "    for child in (parent.left, parent.right):\n",
    "        if child:\n",
    "            G.add_edge(parent, child)\n",
    "            add_edges(child, G)"
   ]
  },
  {
   "cell_type": "code",
   "execution_count": 71,
   "metadata": {},
   "outputs": [],
   "source": [
    "G = nx.DiGraph()\n",
    "add_edges(tree, G)"
   ]
  },
  {
   "cell_type": "markdown",
   "metadata": {},
   "source": [
    "The following function traverses the tree again and collects the node labels in a dictionary."
   ]
  },
  {
   "cell_type": "code",
   "execution_count": 72,
   "metadata": {},
   "outputs": [],
   "source": [
    "def get_labels(parent, labels):\n",
    "    if parent is None:\n",
    "        return\n",
    "    \n",
    "    if parent.letter == '\\0':\n",
    "        labels[parent] = parent.count\n",
    "    else:\n",
    "        labels[parent] = parent.letter\n",
    "        \n",
    "    get_labels(parent.left, labels)\n",
    "    get_labels(parent.right, labels)"
   ]
  },
  {
   "cell_type": "code",
   "execution_count": 73,
   "metadata": {},
   "outputs": [],
   "source": [
    "labels = {}\n",
    "get_labels(tree, labels)"
   ]
  },
  {
   "cell_type": "code",
   "execution_count": 74,
   "metadata": {},
   "outputs": [],
   "source": [
    "def get_edge_labels(parent, edge_labels):\n",
    "    if parent is None:\n",
    "        return\n",
    "    \n",
    "    if parent.left:\n",
    "        edge_labels[parent, parent.left] = '0'\n",
    "        get_edge_labels(parent.left, edge_labels)\n",
    "        \n",
    "    if parent.right:\n",
    "        edge_labels[parent, parent.right] = '1'\n",
    "        get_edge_labels(parent.right, edge_labels)"
   ]
  },
  {
   "cell_type": "code",
   "execution_count": 75,
   "metadata": {},
   "outputs": [
    {
     "data": {
      "text/plain": [
       "72"
      ]
     },
     "execution_count": 75,
     "metadata": {},
     "output_type": "execute_result"
    }
   ],
   "source": [
    "edge_labels = {}\n",
    "get_edge_labels(tree, edge_labels)\n",
    "len(edge_labels)"
   ]
  },
  {
   "cell_type": "markdown",
   "metadata": {},
   "source": [
    "Now we're ready to draw."
   ]
  },
  {
   "cell_type": "code",
   "execution_count": 76,
   "metadata": {},
   "outputs": [],
   "source": [
    "from EoN import hierarchy_pos\n",
    "\n",
    "def draw_tree(tree):\n",
    "    G = nx.DiGraph()\n",
    "    add_edges(tree, G)\n",
    "    pos = hierarchy_pos(G)\n",
    "    labels = {}\n",
    "    get_labels(tree, labels)\n",
    "    edge_labels = {}\n",
    "    get_edge_labels(tree, edge_labels)\n",
    "    nx.draw(G, pos, labels=labels, alpha=0.4)\n",
    "    nx.draw_networkx_edge_labels(G, pos, edge_labels=edge_labels, font_color='C1')"
   ]
  },
  {
   "cell_type": "code",
   "execution_count": 77,
   "metadata": {},
   "outputs": [
    {
     "data": {
      "image/png": "[encoded data removed]",
      "text/plain": [
       "<Figure size 640x480 with 1 Axes>"
      ]
     },
     "metadata": {},
     "output_type": "display_data"
    }
   ],
   "source": [
    "draw_tree(tree)"
   ]
  },
  {
   "cell_type": "markdown",
   "metadata": {},
   "source": [
    "The result might not be identical to the tree on [the Wikipedia page](https://en.wikipedia.org/wiki/Huffman_coding), but a letter in our tree should be on the same level as the same letter in their tree."
   ]
  },
  {
   "cell_type": "markdown",
   "metadata": {},
   "source": [
    "## Making the Table\n",
    "\n",
    "The following function traverses the tree, keeping track of the path as it goes. When it finds a leaf node, it makes an entry in the table."
   ]
  },
  {
   "cell_type": "code",
   "execution_count": 78,
   "metadata": {
    "tags": []
   },
   "outputs": [],
   "source": [
    "def is_leaf(node):\n",
    "    return node.left is None and node.right is None"
   ]
  },
  {
   "cell_type": "code",
   "execution_count": 79,
   "metadata": {
    "tags": []
   },
   "outputs": [],
   "source": [
    "def make_table(node, path, table):\n",
    "    if node is None:\n",
    "        return\n",
    "    \n",
    "    if is_leaf(node):\n",
    "        table[node.letter] = path\n",
    "        return\n",
    "    \n",
    "    make_table(node.left, path+'0', table)\n",
    "    make_table(node.right, path+'1', table)"
   ]
  },
  {
   "cell_type": "code",
   "execution_count": 80,
   "metadata": {
    "tags": []
   },
   "outputs": [
    {
     "data": {
      "text/plain": [
       "{'l': '00000',\n",
       " ')': '00001000',\n",
       " '(': '00001001',\n",
       " \"'\": '00001010',\n",
       " '\\n': '00001011',\n",
       " 'v': '000011',\n",
       " 'a': '0001',\n",
       " ' ': '001',\n",
       " 's': '01000',\n",
       " 'n': '01001',\n",
       " 'm': '010100',\n",
       " 'g': '010101',\n",
       " 'u': '01011',\n",
       " 'i': '0110',\n",
       " 'o': '01110',\n",
       " 'c': '01111',\n",
       " 'e': '100',\n",
       " 't': '1010',\n",
       " 'r': '1011',\n",
       " 'h': '1100',\n",
       " 'f': '11010',\n",
       " 'w': '110110',\n",
       " 'd': '110111',\n",
       " 'b': '111000',\n",
       " 'H': '111001',\n",
       " 'z': '1110100',\n",
       " 'y': '1110101',\n",
       " 'x': '1110110',\n",
       " 'q': '1110111',\n",
       " 'p': '1111000',\n",
       " 'k': '1111001',\n",
       " 'j': '1111010',\n",
       " 'T': '1111011',\n",
       " 'A': '1111100',\n",
       " '.': '1111101',\n",
       " '-': '1111110',\n",
       " ',': '1111111'}"
      ]
     },
     "execution_count": 80,
     "metadata": {},
     "output_type": "execute_result"
    }
   ],
   "source": [
    "table = {}\n",
    "make_table(tree, '', table)\n",
    "\n",
    "table"
   ]
  },
  {
   "cell_type": "markdown",
   "metadata": {},
   "source": [
    "## Encoding\n",
    "\n",
    "We can use the table to encode a string by looking up each symbol in the string and joining the results into a bit string."
   ]
  },
  {
   "cell_type": "code",
   "execution_count": 81,
   "metadata": {
    "tags": []
   },
   "outputs": [],
   "source": [
    "def encode(s, table):\n",
    "    t = [table[letter] for letter in s]\n",
    "    return ''.join(t)"
   ]
  },
  {
   "cell_type": "markdown",
   "metadata": {},
   "source": [
    "Here's an example, noting that we can encode strings other than the corpus we started with, provided that it contains no symbols that were not in the corpus."
   ]
  },
  {
   "cell_type": "code",
   "execution_count": 89,
   "metadata": {
    "tags": []
   },
   "outputs": [
    {
     "name": "stdout",
     "output_type": "stream",
     "text": [
      "length of utf-8 6480\n",
      "length of huffman 3660\n",
      "111101111001000010111001011101011110000101110100011101010110111001010000111100101011110101101001010000010100100001010010000010001000000101010111010110110101011000101000010111100010100100111100010000100001101101001101101001101110010001010000010001001000011000110110110000111100000000100111111000000100010010101011010110000101111011101101111000011010000111100000000100001110100111010110011000100101111011101101110110010010101010010001001010000111001011101101111100001010001110101010100111000011100000000100001011000010010100001011011111100001000101000001000100101111110000011011000101111101010010110010110010010010001001110100110000001000000100011111010011111011110010000100010000001010101110101101101010110001010000111011110010110110000011100010000011010110001100100000110100001111000000001000011101010110111001010000110101100100001100010001010011001010000011010100110111001111100010110111011100000011110000110000000110101011101010010111010110011101010111001110111010111000100101111111010100101110110100010111001111011110101110111011100010010111110000100001001110110100011001010111001010000010000010000101111010011101011001100000101111110000111110000111001000010000110111000000001000010000110001000000101110000101110110100011010110010000101000011100101110110111110000101000111010101010011100001110000001111101001111110001000001011001001001011101010110010010110011000100110101011011101111000111010100110001001011110111011011101100100101010100101010010010101100011101101110100011111110010101000111010111000010111101110010100010100011100100100101000111010101010011100001110000000100000100011011100001010101100010011001011000100000000001110101001101110011110001011100010001000100110101001101110010101101000011001001010101001000010111101010011011010010110011110000110101001000001101011000001010010010000010001000010000010111101110010100010100011100100100101000111010101010011100001110000000100011111010011110010101111010110100101000001010010000101001000001010100100101011000111011011100101111000101001001111000100001100110101101001100111101101000100110100000011101010010110010100111100000000100010100100010011010100110111111111100111010011001001110111011001001010101001000100101111011101101111000010110010010011010011001010010000100000011001001100000110110011010011100011010110010000101001010110101001110001001011001011101101000101100100111110000101110100010000101111011010001100101011100101001000001011011010001101011001000100010000111011010001100101011100101001000001000110111000010100001110101110101001101111111101001111001011101101101000000111001011111111100100010000010101100011100101101010111000010111011110001010011001010000010000000100010101000111001001010101001010100100101011000111011011101000001100010010111101110110111011001001010101001010001110101010100111000011100000001000001010001001111000000110110001101010000000111010111111110011110010101111010110100101000001010010010111101110110111011001001010101001011001000001010010111010100010001000001101100001111010101000001000010110111011110001010011001010000010000000100010101000111001001010101001000100000000000010111101110010100111100010111000100001000011001110010010010101001001010110001110110111010000011111110001011010100010110010000011011100111100000000000101111100110111001110110011010101100001000110110110101011000101001001010011001111001011110111011011101100100101010100101110101100100010100011101010101000101001001010101101100111100101001010110101001001011000100000001010001110101010001010100010100010000010110110100010001001111000100101010101001011001011110111001010011110001011100010000100001100111001001001101100011010011001110001000010110110010000011011100111011101011011010111001101111111101\n"
     ]
    }
   ],
   "source": [
    "m = \"\"\"The output from Huffman's algorithm can be viewed as a variable-length code table for encoding a source symbol \n",
    "(such as a character in a file). The algorithm derives this table from the estimated probability or frequency of occurrence (weight) \n",
    "for each possible value of the source symbol. As in other entropy encoding methods, more common symbols are generally represented using \n",
    "fewer bits than less common symbols. Huffman's method can be efficiently implemented, finding a code in time linear to the number of input \n",
    "weights if these weights are sorted. However, although optimal among methods encoding symbols separately, Huffman coding is not always \n",
    "optimal among all compression methods - it is replaced with arithmetic coding or asymmetric numeral systems if a better compression ratio \n",
    "is required.\"\"\"\n",
    "\n",
    "code = encode(m, table)\n",
    "\n",
    "\n",
    "\n",
    "print(\"length of utf-8 \" + str(len(m) * 8))\n",
    "print(\"length of huffman \" + str(len(code)))\n",
    "print(code)"
   ]
  },
  {
   "cell_type": "code",
   "execution_count": null,
   "metadata": {},
   "outputs": [],
   "source": []
  },
  {
   "cell_type": "markdown",
   "metadata": {},
   "source": [
    "## Decoding\n",
    "\n",
    "To decode the bit string, we start at the top of the tree and follow the path, turning left when we see a `0` and right when we see a `1`.\n",
    "If we get to a leaf node, we have decoded a symbol, so we should record it and then jump back to the top of the tree to start decoding the next symbol.\n",
    "\n",
    "**Exercise:** Write a function called `decode` that takes as parameters a string on 0s and 1s and a Huffman tree. It should decode the message and return it as a string."
   ]
  },
  {
   "cell_type": "code",
   "execution_count": 59,
   "metadata": {},
   "outputs": [],
   "source": [
    "def decode(code, tree, prn = False):\n",
    "    root = tree\n",
    "    decode_list = []\n",
    "    for num in code:\n",
    "        if num == \"0\":\n",
    "            root = root.left\n",
    "        else:\n",
    "            root = root.right\n",
    "\n",
    "        if root.letter != \"\\0\":\n",
    "            decode_list.append(root.letter)\n",
    "            root = tree\n",
    "    \n",
    "    if prn:\n",
    "        print(''.join(decode_list))\n",
    "    else:\n",
    "        return ''.join(decode_list)\n",
    "    \n",
    "\n"
   ]
  },
  {
   "cell_type": "code",
   "execution_count": 90,
   "metadata": {},
   "outputs": [
    {
     "name": "stdout",
     "output_type": "stream",
     "text": [
      "The output from Huffman's algorithm can be viewed as a variable-length code table for encoding a source symbol \n",
      "(such as a character in a file). The algorithm derives this table from the estimated probability or frequency of occurrence (weight) \n",
      "for each possible value of the source symbol. As in other entropy encoding methods, more common symbols are generally represented using \n",
      "fewer bits than less common symbols. Huffman's method can be efficiently implemented, finding a code in time linear to the number of input \n",
      "weights if these weights are sorted. However, although optimal among methods encoding symbols separately, Huffman coding is not always \n",
      "optimal among all compression methods - it is replaced with arithmetic coding or asymmetric numeral systems if a better compression ratio \n",
      "is required.\n"
     ]
    }
   ],
   "source": [
    "decode(code, tree, True)"
   ]
  },
  {
   "cell_type": "markdown",
   "metadata": {},
   "source": [
    "*Data Structures and Information Retrieval in Python*\n",
    "\n",
    "Copyright 2021 Allen Downey\n",
    "\n",
    "License: [Creative Commons Attribution-NonCommercial-ShareAlike 4.0 International](https://creativecommons.org/licenses/by-nc-sa/4.0/)"
   ]
  }
 ],
 "metadata": {
  "celltoolbar": "Tags",
  "kernelspec": {
   "display_name": "Python 3 (ipykernel)",
   "language": "python",
   "name": "python3"
  },
  "language_info": {
   "codemirror_mode": {
    "name": "ipython",
    "version": 3
   },
   "file_extension": ".py",
   "mimetype": "text/x-python",
   "name": "python",
   "nbconvert_exporter": "python",
   "pygments_lexer": "ipython3",
   "version": "3.8.10"
  }
 },
 "nbformat": 4,
 "nbformat_minor": 1
}
